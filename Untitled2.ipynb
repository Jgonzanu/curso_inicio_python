{
  "nbformat": 4,
  "nbformat_minor": 0,
  "metadata": {
    "colab": {
      "provenance": [],
      "authorship_tag": "ABX9TyMbBSdnXqVph9Wox4bRTeC6",
      "include_colab_link": true
    },
    "kernelspec": {
      "name": "python3",
      "display_name": "Python 3"
    },
    "language_info": {
      "name": "python"
    }
  },
  "cells": [
    {
      "cell_type": "markdown",
      "metadata": {
        "id": "view-in-github",
        "colab_type": "text"
      },
      "source": [
        "<a href=\"https://colab.research.google.com/github/Jgonzanu/curso_inicio_python/blob/main/Untitled2.ipynb\" target=\"_parent\"><img src=\"https://colab.research.google.com/assets/colab-badge.svg\" alt=\"Open In Colab\"/></a>"
      ]
    },
    {
      "cell_type": "code",
      "source": [
        "pip install xlsxwriter"
      ],
      "metadata": {
        "colab": {
          "base_uri": "https://localhost:8080/"
        },
        "id": "Pw446hE2iYgz",
        "outputId": "ef31a4d6-08a7-4650-b5d5-3a166b69a1d2"
      },
      "execution_count": 86,
      "outputs": [
        {
          "output_type": "stream",
          "name": "stdout",
          "text": [
            "Collecting xlsxwriter\n",
            "  Downloading XlsxWriter-3.1.9-py3-none-any.whl (154 kB)\n",
            "\u001b[?25l     \u001b[90m━━━━━━━━━━━━━━━━━━━━━━━━━━━━━━━━━━━━━━━━\u001b[0m \u001b[32m0.0/154.8 kB\u001b[0m \u001b[31m?\u001b[0m eta \u001b[36m-:--:--\u001b[0m\r\u001b[2K     \u001b[90m━━━━━━━━━━━━━━━━━━━━━━━━━━━━━━━━━━━━━━━━\u001b[0m \u001b[32m154.8/154.8 kB\u001b[0m \u001b[31m4.7 MB/s\u001b[0m eta \u001b[36m0:00:00\u001b[0m\n",
            "\u001b[?25hInstalling collected packages: xlsxwriter\n",
            "Successfully installed xlsxwriter-3.1.9\n"
          ]
        }
      ]
    },
    {
      "cell_type": "code",
      "source": [
        "import pandas as pd\n",
        "import datetime\n",
        "import xlsxwriter"
      ],
      "metadata": {
        "id": "sHXPPCVDuwRh"
      },
      "execution_count": 87,
      "outputs": []
    },
    {
      "cell_type": "code",
      "source": [
        "# Mencionamos las rutas de lectura de ambos ficheros a comparar\n",
        "ruta_dl = \"/DL.xlsx\"\n",
        "ruta_queries = \"/Queries.xlsx\""
      ],
      "metadata": {
        "id": "H582t36Uuz3n"
      },
      "execution_count": 32,
      "outputs": []
    },
    {
      "cell_type": "code",
      "source": [
        "# Conectamos ambos ficheros de excel para su lectura\n",
        "df_dl = pd.read_excel(ruta_dl)"
      ],
      "metadata": {
        "id": "MbdlEKdkuz6Z"
      },
      "execution_count": 30,
      "outputs": []
    },
    {
      "cell_type": "code",
      "source": [
        "# Imprimimos información básica\n",
        "df_dl.head()"
      ],
      "metadata": {
        "id": "TORyEde3uz83"
      },
      "execution_count": null,
      "outputs": []
    },
    {
      "cell_type": "code",
      "source": [
        "# Conectamos ambos ficheros de excel para su lectura\n",
        "df_queries = pd.read_excel(ruta_queries)"
      ],
      "metadata": {
        "id": "lRDLqDhcuz_e"
      },
      "execution_count": 34,
      "outputs": []
    },
    {
      "cell_type": "code",
      "source": [
        "df_queries.head()"
      ],
      "metadata": {
        "id": "ZkMWaXiiu0CF"
      },
      "execution_count": null,
      "outputs": []
    },
    {
      "cell_type": "code",
      "source": [
        "# Cambiamos el nombre de las columnas de la tabla DL para que sean iguales a las de Queries\n",
        "\n",
        "nombres_nuevos = {\n",
        "    'beneficiarios_con_acuerdos': 'Beneficiarios_con_acuerdos',\n",
        "    'check_numero_documento_unico': 'Check Numero Documento Unico',\n",
        "    'dia_semana': 'Dia_semana',\n",
        "    'fecha_concesion': 'Fecha Concesión',\n",
        "    'meses_desde_concesion': 'Meses_desde_concesion',\n",
        "    'metafase2': 'Metafase2',\n",
        "    'presupuesto': 'Presupuesto',\n",
        "    'razon_unica': 'Razon_unica',\n",
        "    'tiempo_desde_concesion': 'Tiempo_desde_concesion',\n",
        "    'umbral_temporal_fases': 'Umbral temporal fases'}"
      ],
      "metadata": {
        "id": "azl5OhxufVb_"
      },
      "execution_count": 71,
      "outputs": []
    },
    {
      "cell_type": "code",
      "source": [
        "# Modificamos el dataset de DL con el cambio de nombre de columnas anterior\n",
        "df_dl = df_dl.rename(columns=nombres_nuevos)\n",
        "df_dl.head()"
      ],
      "metadata": {
        "id": "uU5YHpRYfVlo"
      },
      "execution_count": null,
      "outputs": []
    },
    {
      "cell_type": "code",
      "source": [
        "# Generamos un dataframe vacío en el que incluiremos el resultado de la comparativa entre ambas tablas\n",
        "df_resultado = pd.DataFrame(columns=df_queries.columns)"
      ],
      "metadata": {
        "id": "U44sIzjMu0IT"
      },
      "execution_count": 74,
      "outputs": []
    },
    {
      "cell_type": "code",
      "source": [
        "df_resultado.head()"
      ],
      "metadata": {
        "id": "vL-nPXyD6dp4"
      },
      "execution_count": null,
      "outputs": []
    },
    {
      "cell_type": "code",
      "source": [
        "# Obtenemos las columnas únicas para cada dataframe\n",
        "\n",
        "columnas_dl = set(df_dl.columns)\n",
        "columnas_queries = set(df_queries.columns)\n",
        "\n",
        "# Encontrar las columnas que están en dl pero no en queries\n",
        "columnas_extra_dl = list(columnas_dl - columnas_queries)\n",
        "\n",
        "# Encontrar las columnas que están en queries pero no en dl\n",
        "columnas_extra_queries = list(columnas_queries - columnas_dl)\n",
        "\n",
        "print(\"Columnas extras en dl:\", columnas_extra_dl)\n",
        "print(\"Columnas extras en queries:\", columnas_extra_queries)\n"
      ],
      "metadata": {
        "id": "MbrNiahq-qOJ"
      },
      "execution_count": null,
      "outputs": []
    },
    {
      "cell_type": "code",
      "source": [
        "# Iteras sobre las columnas de dl y comparas con queries\n",
        "for columna in df_dl.columns:\n",
        "    # Verificas si la columna de dl es diferente a la de queries\n",
        "    if not df_dl[columna].equals(df_queries[columna]):\n",
        "        # Si son diferentes, agregas la columna de queries al DataFrame de resultados\n",
        "        df_resultado[columna] = df_queries[columna]"
      ],
      "metadata": {
        "id": "1pnHaXCoKy9B"
      },
      "execution_count": 81,
      "outputs": []
    },
    {
      "cell_type": "code",
      "source": [
        "# Exportar el archivo\n",
        "# Ruta de salida\n",
        "df_resultado.to_excel(\"/resultado.xlsx\")"
      ],
      "metadata": {
        "id": "hGajB6KmKzGN"
      },
      "execution_count": 93,
      "outputs": []
    },
    {
      "cell_type": "code",
      "source": [],
      "metadata": {
        "id": "Ypy6pD5gKzIu"
      },
      "execution_count": null,
      "outputs": []
    },
    {
      "cell_type": "code",
      "source": [],
      "metadata": {
        "id": "_nw3UhW2KzLK"
      },
      "execution_count": null,
      "outputs": []
    },
    {
      "cell_type": "code",
      "source": [],
      "metadata": {
        "id": "MBqOF-zgKzNk"
      },
      "execution_count": null,
      "outputs": []
    },
    {
      "cell_type": "code",
      "source": [],
      "metadata": {
        "id": "xN3XK9UVKzQK"
      },
      "execution_count": null,
      "outputs": []
    },
    {
      "cell_type": "code",
      "source": [],
      "metadata": {
        "id": "YxDCroDSKzSl"
      },
      "execution_count": null,
      "outputs": []
    }
  ]
}